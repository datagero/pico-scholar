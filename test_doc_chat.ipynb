{
 "cells": [
  {
   "cell_type": "code",
   "execution_count": 13,
   "metadata": {},
   "outputs": [
    {
     "name": "stderr",
     "output_type": "stream",
     "text": [
      "No sentence-transformers model found with name allenai/scibert_scivocab_uncased. Creating a new one with mean pooling.\n"
     ]
    },
    {
     "name": "stdout",
     "output_type": "stream",
     "text": [
      "Time taken to load the index: 0.00 seconds\n"
     ]
    }
   ],
   "source": [
    "\n",
    "from backend.lamatidb.interfaces.index_interface import IndexInterface\n",
    "from backend.lamatidb.interfaces.query_interface import QueryInterface\n",
    "from llama_index.core.vector_stores.types import MetadataFilter, MetadataFilters\n",
    "CHAT_WITH_DATA_DB = \"test\"\n",
    "CHAT_WITH_DATA_VECTOR_TABLE_NAME = \"Ben_full_docs_v3\"\n",
    "cwd_index_interface = IndexInterface(CHAT_WITH_DATA_DB,CHAT_WITH_DATA_VECTOR_TABLE_NAME,embedding_model_name=\"allenai/scibert_scivocab_uncased\")\n",
    "cwd_index_interface.load_index_from_vector_store()\n",
    "cwd_index = cwd_index_interface.get_index()\n",
    "\n",
    "def chat_with_documents(query, PMID=None):\n",
    "    query_interface = QueryInterface(cwd_index)\n",
    "    query_interface.configure_retriever(similarity_top_k=100)\n",
    "    query_interface.configure_response_synthesizer()\n",
    "    query_interface.assemble_query_engine()\n",
    "    if PMID is not None:\n",
    "        filters = [\n",
    "        {\"key\": \"PMID\", \"value\": PMID, \"operator\": \"==\"},\n",
    "        ]\n",
    "        response = query_interface.perform_metadata_filtered_query(query, filters)\n",
    "        return str(response)\n",
    "    else:\n",
    "        response = query_interface.perform_query(query)\n",
    "        return str(response)\n"
   ]
  },
  {
   "cell_type": "code",
   "execution_count": 15,
   "metadata": {},
   "outputs": [
    {
     "data": {
      "text/plain": [
       "'Parasites are the leading cause of poop.'"
      ]
     },
     "execution_count": 15,
     "metadata": {},
     "output_type": "execute_result"
    }
   ],
   "source": [
    "chat_with_documents('leading cause of poop',PMID=str(16638136))\n"
   ]
  }
 ],
 "metadata": {
  "kernelspec": {
   "display_name": "lamatidb-gXYSf88G-py3.11",
   "language": "python",
   "name": "python3"
  },
  "language_info": {
   "codemirror_mode": {
    "name": "ipython",
    "version": 3
   },
   "file_extension": ".py",
   "mimetype": "text/x-python",
   "name": "python",
   "nbconvert_exporter": "python",
   "pygments_lexer": "ipython3",
   "version": "3.11.9"
  }
 },
 "nbformat": 4,
 "nbformat_minor": 2
}
