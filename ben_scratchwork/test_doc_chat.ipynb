{
 "cells": [
  {
   "cell_type": "code",
   "execution_count": 21,
   "metadata": {},
   "outputs": [
    {
     "name": "stderr",
     "output_type": "stream",
     "text": [
      "No sentence-transformers model found with name allenai/scibert_scivocab_uncased. Creating a new one with mean pooling.\n",
      "No sentence-transformers model found with name allenai/scibert_scivocab_uncased. Creating a new one with mean pooling.\n"
     ]
    },
    {
     "name": "stdout",
     "output_type": "stream",
     "text": [
      "Time taken to load the index: 0.00 seconds\n",
      "Time taken to load the index: 0.00 seconds\n"
     ]
    }
   ],
   "source": [
    "\n",
    "from backend.lamatidb.interfaces.index_interface import IndexInterface\n",
    "from backend.lamatidb.interfaces.query_interface import QueryInterface\n",
    "from llama_index.core.vector_stores.types import MetadataFilter, MetadataFilters, FilterOperator\n",
    "CHAT_WITH_DATA_DB = \"test\"\n",
    "CHAT_WITH_DATA_VECTOR_TABLE_NAME = \"Ben_full_docs_v3\"\n",
    "cwd_index_interface = IndexInterface(CHAT_WITH_DATA_DB,CHAT_WITH_DATA_VECTOR_TABLE_NAME,embedding_model_name=\"allenai/scibert_scivocab_uncased\")\n",
    "cwd_index_interface.load_index_from_vector_store()\n",
    "cwd_index = cwd_index_interface.get_index()\n",
    "\n",
    "#step 1: retrieve potentially relevant documents\n",
    "DB_NAME = \"test_matias\" #os.environ['TIDB_DB_NAME'] # set to test_matias as this has data loaded\n",
    "VECTOR_TABLE_NAME = \"scibert_alldata\"\n",
    "\n",
    "\n",
    "# Load or create the index\n",
    "index_interface = IndexInterface(DB_NAME, VECTOR_TABLE_NAME,embedding_model_name=\"allenai/scibert_scivocab_uncased\")\n",
    "index_interface.load_index_from_vector_store()\n",
    "abstract_index = index_interface.get_index()\n",
    "\n",
    "def get_query_from_index(query,index,similarity_top_k = 100,filters = None):\n",
    "    query_interface = QueryInterface(index)\n",
    "    query_interface.configure_retriever(similarity_top_k=similarity_top_k)\n",
    "    query_interface.configure_response_synthesizer()\n",
    "    query_interface.assemble_query_engine()\n",
    "    if filters is not None:\n",
    "        response = query_interface.perform_metadata_filtered_query(query, filters)\n",
    "    else:\n",
    "        response = query_interface.perform_query(query)\n",
    "    return response\n",
    "def get_abstracts_response(query):\n",
    "    query_interface = QueryInterface(abstract_index)\n",
    "    query_interface.configure_retriever(similarity_top_k=100)\n",
    "    query_interface.configure_response_synthesizer()\n",
    "    query_interface.assemble_query_engine()\n",
    "    response = query_interface.perform_query(query)\n",
    "    return response\n",
    "\n",
    "def chat_with_documents(query):\n",
    "\n",
    "    abstracts_response = get_abstracts_response(query)\n",
    "    pmids = [node.metadata['source'] for node in abstracts_response.source_nodes]\n",
    "    query_interface = QueryInterface(cwd_index)\n",
    "    query_interface.configure_retriever(similarity_top_k=100)\n",
    "    query_interface.configure_response_synthesizer()\n",
    "    query_interface.assemble_query_engine()\n",
    "\n",
    "    filters = [\n",
    "    {\"key\": \"PMID\", \"value\": pmids, \"operator\": FilterOperator.IN},\n",
    "    ]\n",
    "    response = query_interface.perform_metadata_filtered_query(query, filters)\n",
    "    \n",
    "    if response.source_nodes:\n",
    "        return (response,f\"{str(response)} \\n\\n Sources:\") #{%[node.metadata['PMID'] for node in abstracts_response.source_nodes]}\")\n",
    "    else:\n",
    "        return (abstracts_response,f\"{str(abstracts_response)} \\n\\n No full papers found. Abstract sources: {pmids}\")\n"
   ]
  },
  {
   "cell_type": "code",
   "execution_count": 11,
   "metadata": {},
   "outputs": [
    {
     "name": "stdout",
     "output_type": "stream",
     "text": [
      "The relationship between traumatic stress symptoms and substance abuse has been well established in the literature. In a study focusing on young adults, it was found that traumatic stress symptoms, including dissociative behavior, intrusive thoughts, and low levels of tension reduction behaviors, were significantly associated with alcohol use. This highlights the importance of understanding and addressing traumatic stress symptoms in women with substance abuse issues. \n",
      "\n",
      " No full papers found. Abstract sources: ['16633531', '16626877', '16627079', '16629084', '16631925', '16629521', '16629083', '16633458', '16632210', '16630198']\n"
     ]
    }
   ],
   "source": [
    "response, text = chat_with_documents('women with substance abuse')\n",
    "print(text)"
   ]
  },
  {
   "cell_type": "code",
   "execution_count": 13,
   "metadata": {},
   "outputs": [
    {
     "name": "stdout",
     "output_type": "stream",
     "text": [
      "Stroke is the leading cause of long-term disability worldwide. \n",
      "\n",
      " No full papers found. Abstract sources: ['16625951', '16631716', '16629437', '16633479', '16625944', '16626917', '16627089', '16633507', '16629536', '16632652']\n"
     ]
    }
   ],
   "source": [
    "response, text = chat_with_documents('leading cause of death')\n",
    "print(text)"
   ]
  },
  {
   "cell_type": "code",
   "execution_count": 22,
   "metadata": {},
   "outputs": [
    {
     "name": "stdout",
     "output_type": "stream",
     "text": [
      "CD163+ macrophages inhibit vascular calcification by promoting the clearance of hemoglobin and heme, which are known to accelerate calcification. \n",
      "\n",
      " Sources:\n"
     ]
    }
   ],
   "source": [
    "response, text = chat_with_documents('Vascular calcification (VC) is concomitant with atherosclerosis. How do CD163+ macrophages inhibit VC ')\n",
    "print(text)"
   ]
  },
  {
   "cell_type": "code",
   "execution_count": 24,
   "metadata": {},
   "outputs": [
    {
     "data": {
      "text/plain": [
       "[NodeWithScore(node=TextNode(id_='8e4ab8da-3c0b-4696-b76a-29990f050f9c', embedding=None, metadata={'PMCID': 'PMC7114336', 'PMID': '16626815'}, excluded_embed_metadata_keys=[], excluded_llm_metadata_keys=[], relationships={<NodeRelationship.SOURCE: '1'>: RelatedNodeInfo(node_id='b792b309-9acf-496e-b626-10b382dc82c2', node_type=<ObjectType.DOCUMENT: '4'>, metadata={'PMCID': 'PMC7114336', 'PMID': '16626815'}, hash='d8dc97bc7e3f3004871d29844dc1b86e93e717c7580126de40a881f708198dde'), <NodeRelationship.PREVIOUS: '2'>: RelatedNodeInfo(node_id='0561737c-1112-42ed-81bc-0a629d463662', node_type=<ObjectType.TEXT: '1'>, metadata={'PMCID': 'PMC7114336', 'PMID': '16626815'}, hash='7310b13bace838f248a1a39e58c3c8489812d52f115a23aecbc6c7d3ab20e9f8'), <NodeRelationship.NEXT: '3'>: RelatedNodeInfo(node_id='8ef58075-218f-4c92-a2be-1475d0fb3c0b', node_type=<ObjectType.TEXT: '1'>, metadata={}, hash='194787ffa76ac8859de893f167a7e6b239a1472a14f8977c2a1552d725f25e1e')}, text=\"Activation of MPC results from stimulation by foreign agents combined with endogenous macrophage-activating factors, the most important of which is IFN-γ, alias Type II interferon. Not unexpectedly, Type II interferon was shown to enhance TNF-α production by activated MPCs ( Nedwin et al., 1985 Svedersky et al., 1985 Wallach, 1986 Abu-khabar et al., 1992 Huang et al., 1995 Triantaphyllopoulos et al., 1999 Phagocytosis of apoptotic cells, in particular apoptotic T cells, is important for control of inflammation. Significantly, mononuclear phagocytes engaged in this process, rather than being activated, are downregulated in terms of cytokine production ( Magnus et al., 2001 Chan et al., 2003 4.6 Myelosuppression Suppression of haematopoiesis is a common finding in most clinical studies with Type I interferon ( Wong et al., 1996 Schmid et al., 2005 Peck-Radosavljevic et al., 2002 Matthys et al., 2000 5 Discussion From the data reviewed here (see summary in Table 1 Table 1 Summary of anti-inflammatory effects of Type I interferons (for references, see text) Leukocyte traffic within lymphoid organs and between such organs and inflamed tissues is the foremost important feature of acute inflammation. It serves the purpose of immediate early defence against local insults, typical for innate immunity, but it is also essential for adequate development of later adaptive immunity. For instance, whether any adaptive response assumes a Th1 or Th2 character depends largely on the assortment of leukocytes and their cytokines and chemokines participating in the preceding acute inflammation. Given the observation that IFN-β has the potential to regulate recruitment as well as secretory activity of leukocytes during inflammation, it follows that IFN-β may also participate in the regulation of adaptive immune responses. This may be part of the explanation for observations in mice or rats that treatment with IFN-α/β can modify the course of experimental diseases with complex pathogenesis such as EAE, CIA, or skin graft acceptance. So, it is an interesting thought that while Type I interferons evolved to become signals for activation of intracellular antiviral mechanisms, evolutionary pressure may at the same time have moulded signals for several inflammatory mechanisms to respond negatively to interferon. Interferon's natural task during acute virus infection may therefore consist not only in inhibiting virus replication but also in mitigating inflammation. If this would indeed be the case, one would be allowed to think (perhaps a bit wishfully) that interferon is a suitable anti-inflammatory agent to be used in severe acute virus infections, superior to steroids or NSAIDs. Clinical tests done in the 1980s have shown that Type I interferons were of very little value in ‘common’ acute virus infections. However, severe acute infections caused by ‘unusual’ viruses such as the SARS coronavirus, seem to owe their life-threatening severity to excessive inflammatory reactions, as has been documented by massive production of certain cytokines ( Huang et al., 2005 Law et al., 2005 Will the anti-inflammatory activities of Type I interferons continue to stir the interest of clinical investigators? If so, the spectrum of diseases amenable to interferon therapy may still expand. Moreover, as underlying mechanisms will be further elucidated, investigators may more easily find agents that have anti-inflammatory actions similar to those of interferon, and that may replace Type I interferons in the treatment for MS or other chronic inflammatory illnesses. Clearly, there is a need for further and more thorough investigation. Further in-depth characterization of cellular effects, such as those reviewed here, will be extremely important to make this possible. But perhaps more important will be the expansion and refinement of experimental animal models, so they may be employed to more strongly underpin the anti-inflammatory potential of Type I interferons and to evaluate their clinical potential. References Abreu S.L. Suppression of experimental allergic encephalomyelitis by interferon Immunol. Commun. 11 1982 1 7 6178681 Abreu S.L. Tondreau J. Levine S. Sowinski R. Inhibition of passive localized experimental allergic encephalomyelitis by interferon Int. Arch. Allergy Appl. Immunol. 72 1983 30 33 6192094 Abu-khabar K.S. Armstrong J.A.\", mimetype='text/plain', start_char_idx=13053, end_char_idx=17428, text_template='{metadata_str}\\n\\n{content}', metadata_template='{key}: {value}', metadata_seperator='\\n'), score=0.7909817695618575),\n",
       " NodeWithScore(node=TextNode(id_='9c76730e-711a-4bd9-8296-f25ae1e9af70', embedding=None, metadata={'PMCID': 'PMC7114336', 'PMID': '16626815'}, excluded_embed_metadata_keys=[], excluded_llm_metadata_keys=[], relationships={<NodeRelationship.SOURCE: '1'>: RelatedNodeInfo(node_id='b792b309-9acf-496e-b626-10b382dc82c2', node_type=<ObjectType.DOCUMENT: '4'>, metadata={'PMCID': 'PMC7114336', 'PMID': '16626815'}, hash='d8dc97bc7e3f3004871d29844dc1b86e93e717c7580126de40a881f708198dde'), <NodeRelationship.PREVIOUS: '2'>: RelatedNodeInfo(node_id='daacdb8f-a1a9-400d-b7e0-9ce57bb71c62', node_type=<ObjectType.TEXT: '1'>, metadata={'PMCID': 'PMC7114336', 'PMID': '16626815'}, hash='8cc2156c0cfd67b2ae49c28f03da855e2e8aa54fd3ab866574830f238873c450'), <NodeRelationship.NEXT: '3'>: RelatedNodeInfo(node_id='0561737c-1112-42ed-81bc-0a629d463662', node_type=<ObjectType.TEXT: '1'>, metadata={}, hash='78a343a991d2f792a89fc4bb6b4b4aa85e35b0143d5ad1342bd9d7298e3b9474')}, text='reported an inhibitory effect of passively administered or actively induced IFN-α/β on the inflammatory response elicited in presensitized mice by the T cell-dependent antigens, sheep red blood cells and Newcastle disease virus ( De Maeyer et al., 1975 De Maeyer, 1976 Gresser et al., 1979 Hirsch et al., 1974 Skurkovich et al., 1973 De Maeyer and De Maeyer-Guignard (1982) 3 Clinical studies 3.1 Virus infections Generally accepted use of Type I interferon to treat virus infections in man is limited to the use of IFN-α in patients with chronic hepatitis B or C. Currently the combination of pegylated interferon and ribavirin is the recommended treatment for persistent HCV infection accompanied by liver inflammation and incipient fibrosis. Sustained viral responses can be achieved in 40 to 80% of cases (for review, see Ward and Kugelmas, 2005 Lau et al., 2005 Camma et al., 2001 Azzaroli et al., 2004 Soga et al., 2005 Omata et al., 2005 Beneficial effects on liver histology and function probably result in part from the direct effect of interferon on viral replicative activity. However, anti-inflammatory and immunomodulatory activities of interferon might also contribute, respectively, by providing direct tissue protection and/or more adequate viral antigen-specific immune responses. Carotenuto et al. (2005) + + + Tang et al., 2005 3.2 Multiple sclerosis Long-term IFN-β treatment of patients with relapsing-remitting MS is now generally recognized to reduce the frequency of relapses as documented by gadolinium-enhancing MRI. This would by far be the strongest supportive evidence for the anti-inflammatory and/or immunosuppressive potential of interferon, if it were not that the mechanism by which the treatment protects the integrity of the blood–brain barrier remains unclear. Monitoring of immunological markers in MS patients before and in the course of treatment with IFN-β has shed some light on which mechanisms may be involved. Calabresi et al. reported increased levels of soluble VCAM-1 soon after initiation of IFN-β therapy ( Calabresi et al., 1997b Calabresi et al., 1997a Evidence that IFN-β affects the course of MS by inhibiting production and/or activity of proteases comes mainly from studies on MMP-9. Blood monocytes ( Gveric et al., 2001 Kouwenhoven et al., 2002 Waubant et al., 1999 Liuzzi et al., 2002 Dubois et al., 2003 Trojano et al., 1999 Waubant et al., 2001 Giannelli et al., 2002 Waubant et al., 2003 Yushchenko et al., 2003 Karabudak et al., 2004 Avolio et al., 2005 Galboiz et al., 2001 Gilli et al., 2004 An unresolved question is, at what stage of lesion development protease activity intervenes. Is it essential for leukocytes to be able to infiltrate the CNS? Does it play a role in disrupting the BBB with all its consequences? Does it play a role by degrading myelin? 4 Cellular and molecular mechanisms 4.1 Dendritic cells Type I interferons play an important role in dendritic cell biology, leading some authors to consider them as potential adjuvants for dendritic cell-based vaccines ( Santini et al., 2002 Santini et al., 2000 Santini et al., 2000 Detournay et al., 2005 + + Detournay et al., 2005 Montoya et al., 2002  Santodonato et al. (2003) + Carbonneil et al. (2003) Type I interferon was also found to inhibit secretion of MMP-9 by dendritic cells (vide infra) ( Bartholomé et al., 2001 Antigen presentation is not the sole prerogative of dendritic cells. In the central nervous system astrocytes express MHC Class II molecules in a tightly controlled fashion, whereby IFN-γ is a strong inducer. In an astrocytoma cell line Type I interferons were described to inhibit MHC Class II molecule induction by IFN-γ ( Ransohoff et al., 1991 Devajyothi et al., 1993 4.2 Cell adhesion and cell adhesion molecules  Corsini et al.', mimetype='text/plain', start_char_idx=7085, end_char_idx=10874, text_template='{metadata_str}\\n\\n{content}', metadata_template='{key}: {value}', metadata_seperator='\\n'), score=0.7750325374237649)]"
      ]
     },
     "execution_count": 24,
     "metadata": {},
     "output_type": "execute_result"
    }
   ],
   "source": [
    "response.source_nodes"
   ]
  },
  {
   "cell_type": "code",
   "execution_count": 18,
   "metadata": {},
   "outputs": [
    {
     "data": {
      "text/plain": [
       "[NodeWithScore(node=TextNode(id_='cf4329f2-8df9-43d4-884a-26d92da90afa', embedding=None, metadata={'source': '16632376', 'title': 'Cellular inflammatory responses: novel insights for obesity and insulin resistance.', 'authors': 'Hong Chen', 'year': '2006'}, excluded_embed_metadata_keys=[], excluded_llm_metadata_keys=[], relationships={<NodeRelationship.SOURCE: '1'>: RelatedNodeInfo(node_id='d01309c8-8a8a-40c5-9944-472d4972f64c', node_type=<ObjectType.DOCUMENT: '4'>, metadata={'source': '16632376', 'title': 'Cellular inflammatory responses: novel insights for obesity and insulin resistance.', 'authors': 'Hong Chen', 'year': '2006'}, hash='5f1290cd1bda4c6a6cf0b5c593448b72752f5286e18ebfac2172cda73a368f7b')}, text='Type 2 diabetes is rapidly becoming a worldwide epidemic. Obesity and sedentary lifestyle are the main environmental causes for the development of insulin resistance and type 2 diabetes. In the past decade, it has been increasingly recognized that obesity and insulin resistance are associated with chronic, low-grade systemic inflammation. This review will cover the recent advances in this field and provide a working model explaining how cellular inflammatory responses arise to cope with obesity-induced metabolic stresses and how these inflammatory responses underlie insulin resistance.', mimetype='text/plain', start_char_idx=0, end_char_idx=592, text_template='{metadata_str}\\n\\n{content}', metadata_template='{key}: {value}', metadata_seperator='\\n'), score=0.8491719308476756),\n",
       " NodeWithScore(node=TextNode(id_='18b89b88-b68b-42bc-84a6-d15b9b103c4b', embedding=None, metadata={'source': '16627812', 'title': 'T cell costimulation in the development of cardiac allograft vasculopathy: potential targets for therapeutic interventions.', 'authors': 'Mitsuaki Isobe, Hisanori Kosuge, Jun-Ichi Suzuki', 'year': '2006'}, excluded_embed_metadata_keys=[], excluded_llm_metadata_keys=[], relationships={<NodeRelationship.SOURCE: '1'>: RelatedNodeInfo(node_id='9ba78895-3013-4c25-8260-62f9d9fe7a45', node_type=<ObjectType.DOCUMENT: '4'>, metadata={'source': '16627812', 'title': 'T cell costimulation in the development of cardiac allograft vasculopathy: potential targets for therapeutic interventions.', 'authors': 'Mitsuaki Isobe, Hisanori Kosuge, Jun-Ichi Suzuki', 'year': '2006'}, hash='7765f29848681ba70d6d67f8c377221fac720f0273e83f1ed002dc771a35e28b')}, text='Cardiac allograft vasculopathy (CAV) is a form of coronary arterial stenosis and a leading cause of death in patients who survive beyond the first year after heart transplantation. Histopathologically, this lesion is concentric diffuse intimal hyperplasia of the arterial wall that is accompanied by extensive infiltration of inflammatory cells, including T cells. Many studies have explored the potential risk factors related to this arterial lesion and its pathogenesis. Continuous minor endothelial cell damage evokes inflammatory processes including T cell activation. Costimulatory molecules play crucial roles in this T cell activation. Many costimulatory pathways have been described, and some are involved in the pathogenesis of CAV, atherogenesis, and subsequent plaque formation. In this review, we summarize the present knowledge of the role of these pathways in CAV development and the possibility of manipulating these pathways as a means to treat heart allograft vascular disease and atherosclerosis.', mimetype='text/plain', start_char_idx=0, end_char_idx=1014, text_template='{metadata_str}\\n\\n{content}', metadata_template='{key}: {value}', metadata_seperator='\\n'), score=0.8421568744907292),\n",
       " NodeWithScore(node=TextNode(id_='cfbb4b39-1c27-464c-8e5b-c68108b52ddd', embedding=None, metadata={'source': '16629112', 'title': 'Management of patients with intermittent claudication.', 'authors': 'Laura Fletcher', 'year': '2006'}, excluded_embed_metadata_keys=[], excluded_llm_metadata_keys=[], relationships={<NodeRelationship.SOURCE: '1'>: RelatedNodeInfo(node_id='13e8a6ad-a0c3-4307-9f8b-ed86f2277968', node_type=<ObjectType.DOCUMENT: '4'>, metadata={'source': '16629112', 'title': 'Management of patients with intermittent claudication.', 'authors': 'Laura Fletcher', 'year': '2006'}, hash='391d67cf030f6ff64b4f2c41349bfe5e0e16b029d9a755245e73a0d8efdba45c')}, text='Intermittent claudication is a common manifestation of peripheral arterial disease, its symptoms have a gradual onset and the patient may not notice them initially, instead accepting them as part of the ageing process. The main concern with intermittent claudication is the increased risk of cardiovascular or cerebrovascular events. This article highlights the relationship between these diseases and suggests ways to reduce risk and promote best practice.', mimetype='text/plain', start_char_idx=0, end_char_idx=457, text_template='{metadata_str}\\n\\n{content}', metadata_template='{key}: {value}', metadata_seperator='\\n'), score=0.8374733619439922),\n",
       " NodeWithScore(node=TextNode(id_='555e9b77-ecbe-402b-a532-e980e5606997', embedding=None, metadata={'source': '16632100', 'title': 'New insights in the molecular pathogenesis of the maternally inherited diabetes and deafness syndrome.', 'authors': \"Johannes A Maassen, Roshan S Jahangir Tafrechi, George M C Janssen, Anton K Raap, Herman H Lemkes, Leen M 't Hart\", 'year': '2006'}, excluded_embed_metadata_keys=[], excluded_llm_metadata_keys=[], relationships={<NodeRelationship.SOURCE: '1'>: RelatedNodeInfo(node_id='b9e253b1-8159-4df4-a541-25cf385efafd', node_type=<ObjectType.DOCUMENT: '4'>, metadata={'source': '16632100', 'title': 'New insights in the molecular pathogenesis of the maternally inherited diabetes and deafness syndrome.', 'authors': \"Johannes A Maassen, Roshan S Jahangir Tafrechi, George M C Janssen, Anton K Raap, Herman H Lemkes, Leen M 't Hart\", 'year': '2006'}, hash='452f2bf1408dee8186c92bb3f4210cf364ef421ce92cb4353328a7373463e423')}, text='The 3243A>G mutation in mitochondrial DNA (mtDNA) is a genetic variant that is associated with a high risk of developing diabetes during life. Enhanced aging of pancreatic beta-cells, a reduced capacity of these cells to synthesize large amounts of insulin,and a resetting of the ATP/ADP-regulated K-channel seem to be the pathogenic factors involved.', mimetype='text/plain', start_char_idx=0, end_char_idx=351, text_template='{metadata_str}\\n\\n{content}', metadata_template='{key}: {value}', metadata_seperator='\\n'), score=0.8371675166936831),\n",
       " NodeWithScore(node=TextNode(id_='575fac39-553a-4f88-a89d-718f4eb3003b', embedding=None, metadata={'source': '16628200', 'title': 'MIF: a new cytokine link between rheumatoid arthritis and atherosclerosis.', 'authors': 'Eric F Morand, Michelle Leech, Jürgen Bernhagen', 'year': '2006'}, excluded_embed_metadata_keys=[], excluded_llm_metadata_keys=[], relationships={<NodeRelationship.SOURCE: '1'>: RelatedNodeInfo(node_id='c33c25e6-0ae4-46eb-99db-0418ead8cad4', node_type=<ObjectType.DOCUMENT: '4'>, metadata={'source': '16628200', 'title': 'MIF: a new cytokine link between rheumatoid arthritis and atherosclerosis.', 'authors': 'Eric F Morand, Michelle Leech, Jürgen Bernhagen', 'year': '2006'}, hash='89f20b5c578f38b5e5a91165478929b936b73eb62377fbd1ad199f90787efe71')}, text='Macrophage migration inhibitory factor (MIF) is well established as a key cytokine in immuno-inflammatory diseases such as rheumatoid arthritis. Inflammation is now also recognized as having a crucial role in atherosclerosis, and recent evidence indicates that MIF could also be important in this disease. Here, we review the role of MIF in rheumatoid arthritis and atherosclerosis, discuss the ways in which MIF and its relationship with glucocorticoids could link these diseases, and consider the potential of MIF as a new therapeutic target for small-molecule and antibody-based anti-cytokine drugs.', mimetype='text/plain', start_char_idx=0, end_char_idx=602, text_template='{metadata_str}\\n\\n{content}', metadata_template='{key}: {value}', metadata_seperator='\\n'), score=0.8371203334044853),\n",
       " NodeWithScore(node=TextNode(id_='0690fa12-5848-4eb1-a0b0-11634a08de2a', embedding=None, metadata={'source': '16630081', 'title': 'Pathogenesis and therapy of cutaneous lymphomas--progress or impasse?', 'authors': 'Reinhard Dummer, Antonio Cozzio, Mirjana Urosevic', 'year': '2006'}, excluded_embed_metadata_keys=[], excluded_llm_metadata_keys=[], relationships={<NodeRelationship.SOURCE: '1'>: RelatedNodeInfo(node_id='d719c909-7097-42af-96f4-32fed704a6e9', node_type=<ObjectType.DOCUMENT: '4'>, metadata={'source': '16630081', 'title': 'Pathogenesis and therapy of cutaneous lymphomas--progress or impasse?', 'authors': 'Reinhard Dummer, Antonio Cozzio, Mirjana Urosevic', 'year': '2006'}, hash='1b84408a8bff6fae1d5038c058dcf0aa4518d9c92737f3e88fa21af7b558a0ed')}, text='The cutaneous environment hosts a number of hematopoietic neoplasms that are dominated by primary cutaneous (PC) T-cell lymphomas. Recent progress in molecular biology and immunology has provided tools to investigate the pathogenesis and the biology of these neoplasms. This review highlights newest findings concerning the immune biology of CD4+ CD56+ hematodermic neoplasms, and PC T-cell and B-cell lymphomas, speculating how these can be translated into more sophisticated, biology-based treatment approaches in the near future.', mimetype='text/plain', start_char_idx=0, end_char_idx=532, text_template='{metadata_str}\\n\\n{content}', metadata_template='{key}: {value}', metadata_seperator='\\n'), score=0.8351451649829387),\n",
       " NodeWithScore(node=TextNode(id_='af182c35-0251-45f9-8b1c-9a2a9ba8ddf5', embedding=None, metadata={'source': '16631737', 'title': 'Immune modulation by mesenchymal stem cells.', 'authors': 'Ida Rasmusson', 'year': '2006'}, excluded_embed_metadata_keys=[], excluded_llm_metadata_keys=[], relationships={<NodeRelationship.SOURCE: '1'>: RelatedNodeInfo(node_id='63aaeb77-b98d-41a9-8c3a-fa994164179b', node_type=<ObjectType.DOCUMENT: '4'>, metadata={'source': '16631737', 'title': 'Immune modulation by mesenchymal stem cells.', 'authors': 'Ida Rasmusson', 'year': '2006'}, hash='cc38b3b287760735e4133d7eabd09f9286ab13f6dd6b7079e43257cbe4da586e')}, text='Mesenchymal stem cells (MSCs) have been shown to suppress activation of T cells both in vivo and in vitro. In vivo, this may be a way for the body to maintain homeostasis and inhibit immune activation in distinct compartments, such as the bone marrow and the interface between mother and fetus. MSCs modulate the immune function of the major cell populations involved in alloantigen recognition and elimination, including antigen presenting cells, T cells, and natural killer cells. The molecular mechanism that mediates the immunosuppressive effect of MSCs is not completely understood.', mimetype='text/plain', start_char_idx=0, end_char_idx=587, text_template='{metadata_str}\\n\\n{content}', metadata_template='{key}: {value}', metadata_seperator='\\n'), score=0.8348210303646031),\n",
       " NodeWithScore(node=TextNode(id_='83a924c1-55f0-40bd-b64d-b53ced210f89', embedding=None, metadata={'source': '16633338', 'title': 'VEGF receptor signalling - in control of vascular function.', 'authors': 'Anna-Karin Olsson, Anna Dimberg, Johan Kreuger, Lena Claesson-Welsh', 'year': '2006'}, excluded_embed_metadata_keys=[], excluded_llm_metadata_keys=[], relationships={<NodeRelationship.SOURCE: '1'>: RelatedNodeInfo(node_id='e58b5fa7-3d12-4895-9d57-2df856302fd4', node_type=<ObjectType.DOCUMENT: '4'>, metadata={'source': '16633338', 'title': 'VEGF receptor signalling - in control of vascular function.', 'authors': 'Anna-Karin Olsson, Anna Dimberg, Johan Kreuger, Lena Claesson-Welsh', 'year': '2006'}, hash='22dcdce00301d5b198408461ee79ac8c7802f09c12d0dbe7fa090836e79306a7')}, text='Vascular endothelial growth-factor receptors (VEGFRs) regulate the cardiovascular system. VEGFR1 is required for the recruitment of haematopoietic precursors and migration of monocytes and macrophages, whereas VEGFR2 and VEGFR3 are essential for the functions of vascular endothelial and lymphendothelial cells, respectively. Recent insights have shed light onto VEGFR signal transduction and the interplay between different VEGFRs and VEGF co-receptors in development, adult physiology and disease.', mimetype='text/plain', start_char_idx=0, end_char_idx=499, text_template='{metadata_str}\\n\\n{content}', metadata_template='{key}: {value}', metadata_seperator='\\n'), score=0.8340924082829593),\n",
       " NodeWithScore(node=TextNode(id_='e23f28fd-29d9-4b0a-a8e7-dacf41db0cb0', embedding=None, metadata={'source': '16630812', 'title': 'Searching chromatin for stem cell identity.', 'authors': 'Michael Buszczak, Allan C Spradling', 'year': '2006'}, excluded_embed_metadata_keys=[], excluded_llm_metadata_keys=[], relationships={<NodeRelationship.SOURCE: '1'>: RelatedNodeInfo(node_id='4b4e67e5-f8bf-4041-8401-cfbd08773832', node_type=<ObjectType.DOCUMENT: '4'>, metadata={'source': '16630812', 'title': 'Searching chromatin for stem cell identity.', 'authors': 'Michael Buszczak, Allan C Spradling', 'year': '2006'}, hash='824609b3e81f590c42984956cd87ae3f4d5993efa1dad16d6673f1e6cca7ab62')}, text='Stem cells encapsulate the fundamental problem of metazoan biology in miniature: How do cells establish and maintain their fates? Increasing evidence indicates that stem cell chromatin activates proliferation genes and represses differentiation genes. Understanding how these configurations are stabilized by Polycomb group proteins will advance our understanding of embryonic development, tissue homeostasis, regeneration, aging, and oncogenesis.', mimetype='text/plain', start_char_idx=0, end_char_idx=447, text_template='{metadata_str}\\n\\n{content}', metadata_template='{key}: {value}', metadata_seperator='\\n'), score=0.8314060026454623),\n",
       " NodeWithScore(node=TextNode(id_='17f5f1d6-ccf0-448a-8b3e-17257326d4d4', embedding=None, metadata={'source': '16630811', 'title': 'Pten, tumorigenesis, and stem cell self-renewal.', 'authors': 'Derrick J Rossi, Irving L Weissman', 'year': '2006'}, excluded_embed_metadata_keys=[], excluded_llm_metadata_keys=[], relationships={<NodeRelationship.SOURCE: '1'>: RelatedNodeInfo(node_id='762f9f89-a212-462b-8dc4-e9cf80600623', node_type=<ObjectType.DOCUMENT: '4'>, metadata={'source': '16630811', 'title': 'Pten, tumorigenesis, and stem cell self-renewal.', 'authors': 'Derrick J Rossi, Irving L Weissman', 'year': '2006'}, hash='523466c9d993b9fc6dff47404658048ad2c5129f10ed3f80c2048cafa6f114ce')}, text='Self-renewal pathways crucial for maintaining stem cells are deregulated in cancer, raising the spectre that cancer therapies targeting such pathways might also ablate normal stem cells. As Yilmaz et al. (2006) report in a recent Nature paper, this may not be the case for the tumor suppressor protein Pten, which drives the self-renewal of normal hematopoietic stem cells and the formation of leukemia cells through different mechanisms.', mimetype='text/plain', start_char_idx=0, end_char_idx=438, text_template='{metadata_str}\\n\\n{content}', metadata_template='{key}: {value}', metadata_seperator='\\n'), score=0.8295388875373837)]"
      ]
     },
     "execution_count": 18,
     "metadata": {},
     "output_type": "execute_result"
    }
   ],
   "source": [
    "response.source_nodes"
   ]
  },
  {
   "cell_type": "code",
   "execution_count": 1,
   "metadata": {},
   "outputs": [
    {
     "name": "stderr",
     "output_type": "stream",
     "text": [
      "c:\\Users\\Work\\AppData\\Local\\Packages\\PythonSoftwareFoundation.Python.3.11_qbz5n2kfra8p0\\LocalCache\\Local\\pypoetry\\Cache\\virtualenvs\\lamatidb-gXYSf88G-py3.11\\Lib\\site-packages\\tqdm\\auto.py:21: TqdmWarning: IProgress not found. Please update jupyter and ipywidgets. See https://ipywidgets.readthedocs.io/en/stable/user_install.html\n",
      "  from .autonotebook import tqdm as notebook_tqdm\n",
      "2024-08-19 22:19:32.650 WARNING streamlit.runtime.state.session_state_proxy: Session state does not function when running a script without `streamlit run`\n",
      "No sentence-transformers model found with name allenai/scibert_scivocab_uncased. Creating a new one with mean pooling.\n"
     ]
    },
    {
     "name": "stdout",
     "output_type": "stream",
     "text": [
      "Time taken to load the index: 0.82 seconds\n"
     ]
    },
    {
     "name": "stderr",
     "output_type": "stream",
     "text": [
      "2024-08-19 22:19:36.298 \n",
      "  \u001b[33m\u001b[1mWarning:\u001b[0m to view this Streamlit app on a browser, run it with the following\n",
      "  command:\n",
      "\n",
      "    streamlit run c:\\Users\\Work\\AppData\\Local\\Packages\\PythonSoftwareFoundation.Python.3.11_qbz5n2kfra8p0\\LocalCache\\Local\\pypoetry\\Cache\\virtualenvs\\lamatidb-gXYSf88G-py3.11\\Lib\\site-packages\\ipykernel_launcher.py [ARGUMENTS]\n"
     ]
    }
   ],
   "source": [
    "import streamlit_app"
   ]
  },
  {
   "cell_type": "code",
   "execution_count": 3,
   "metadata": {},
   "outputs": [
    {
     "ename": "RuntimeError",
     "evalue": "asyncio.run() cannot be called from a running event loop",
     "output_type": "error",
     "traceback": [
      "\u001b[1;31m---------------------------------------------------------------------------\u001b[0m",
      "\u001b[1;31mRuntimeError\u001b[0m                              Traceback (most recent call last)",
      "Cell \u001b[1;32mIn[3], line 8\u001b[0m\n\u001b[0;32m      5\u001b[0m _config\u001b[38;5;241m.\u001b[39mset_option(\u001b[38;5;124m\"\u001b[39m\u001b[38;5;124mserver.headless\u001b[39m\u001b[38;5;124m\"\u001b[39m, \u001b[38;5;28;01mTrue\u001b[39;00m)\n\u001b[0;32m      6\u001b[0m args \u001b[38;5;241m=\u001b[39m []\n\u001b[1;32m----> 8\u001b[0m \u001b[43mstreamlit\u001b[49m\u001b[38;5;241;43m.\u001b[39;49m\u001b[43mweb\u001b[49m\u001b[38;5;241;43m.\u001b[39;49m\u001b[43mbootstrap\u001b[49m\u001b[38;5;241;43m.\u001b[39;49m\u001b[43mrun\u001b[49m\u001b[43m(\u001b[49m\u001b[38;5;124;43mr\u001b[39;49m\u001b[38;5;124;43m'\u001b[39;49m\u001b[38;5;124;43mC:\u001b[39;49m\u001b[38;5;124;43m\\\u001b[39;49m\u001b[38;5;124;43mUsers\u001b[39;49m\u001b[38;5;124;43m\\\u001b[39;49m\u001b[38;5;124;43mWork\u001b[39;49m\u001b[38;5;124;43m\\\u001b[39;49m\u001b[38;5;124;43mpico-scholar\u001b[39;49m\u001b[38;5;124;43m\\\u001b[39;49m\u001b[38;5;124;43mbackend\u001b[39;49m\u001b[38;5;124;43m\\\u001b[39;49m\u001b[38;5;124;43mlamatidb\u001b[39;49m\u001b[38;5;124;43m\\\u001b[39;49m\u001b[38;5;124;43minterfaces\u001b[39;49m\u001b[38;5;124;43m\\\u001b[39;49m\u001b[38;5;124;43mtemp_streamlit_app.py\u001b[39;49m\u001b[38;5;124;43m'\u001b[39;49m\u001b[43m,\u001b[49m\u001b[38;5;28;43;01mFalse\u001b[39;49;00m\u001b[43m,\u001b[49m\u001b[43margs\u001b[49m\u001b[43m,\u001b[49m\u001b[43m{\u001b[49m\u001b[43m}\u001b[49m\u001b[43m)\u001b[49m\n",
      "File \u001b[1;32mc:\\Users\\Work\\AppData\\Local\\Packages\\PythonSoftwareFoundation.Python.3.11_qbz5n2kfra8p0\\LocalCache\\Local\\pypoetry\\Cache\\virtualenvs\\lamatidb-gXYSf88G-py3.11\\Lib\\site-packages\\streamlit\\web\\bootstrap.py:352\u001b[0m, in \u001b[0;36mrun\u001b[1;34m(main_script_path, is_hello, args, flag_options)\u001b[0m\n\u001b[0;32m    349\u001b[0m     \u001b[38;5;28;01mawait\u001b[39;00m server\u001b[38;5;241m.\u001b[39mstopped\n\u001b[0;32m    351\u001b[0m \u001b[38;5;66;03m# Run the server. This function will not return until the server is shut down.\u001b[39;00m\n\u001b[1;32m--> 352\u001b[0m \u001b[43masyncio\u001b[49m\u001b[38;5;241;43m.\u001b[39;49m\u001b[43mrun\u001b[49m\u001b[43m(\u001b[49m\u001b[43mrun_server\u001b[49m\u001b[43m(\u001b[49m\u001b[43m)\u001b[49m\u001b[43m)\u001b[49m\n",
      "File \u001b[1;32mC:\\Program Files\\WindowsApps\\PythonSoftwareFoundation.Python.3.11_3.11.2544.0_x64__qbz5n2kfra8p0\\Lib\\asyncio\\runners.py:186\u001b[0m, in \u001b[0;36mrun\u001b[1;34m(main, debug)\u001b[0m\n\u001b[0;32m    161\u001b[0m \u001b[38;5;250m\u001b[39m\u001b[38;5;124;03m\"\"\"Execute the coroutine and return the result.\u001b[39;00m\n\u001b[0;32m    162\u001b[0m \n\u001b[0;32m    163\u001b[0m \u001b[38;5;124;03mThis function runs the passed coroutine, taking care of\u001b[39;00m\n\u001b[1;32m   (...)\u001b[0m\n\u001b[0;32m    182\u001b[0m \u001b[38;5;124;03m    asyncio.run(main())\u001b[39;00m\n\u001b[0;32m    183\u001b[0m \u001b[38;5;124;03m\"\"\"\u001b[39;00m\n\u001b[0;32m    184\u001b[0m \u001b[38;5;28;01mif\u001b[39;00m events\u001b[38;5;241m.\u001b[39m_get_running_loop() \u001b[38;5;129;01mis\u001b[39;00m \u001b[38;5;129;01mnot\u001b[39;00m \u001b[38;5;28;01mNone\u001b[39;00m:\n\u001b[0;32m    185\u001b[0m     \u001b[38;5;66;03m# fail fast with short traceback\u001b[39;00m\n\u001b[1;32m--> 186\u001b[0m     \u001b[38;5;28;01mraise\u001b[39;00m \u001b[38;5;167;01mRuntimeError\u001b[39;00m(\n\u001b[0;32m    187\u001b[0m         \u001b[38;5;124m\"\u001b[39m\u001b[38;5;124masyncio.run() cannot be called from a running event loop\u001b[39m\u001b[38;5;124m\"\u001b[39m)\n\u001b[0;32m    189\u001b[0m \u001b[38;5;28;01mwith\u001b[39;00m Runner(debug\u001b[38;5;241m=\u001b[39mdebug) \u001b[38;5;28;01mas\u001b[39;00m runner:\n\u001b[0;32m    190\u001b[0m     \u001b[38;5;28;01mreturn\u001b[39;00m runner\u001b[38;5;241m.\u001b[39mrun(main)\n",
      "\u001b[1;31mRuntimeError\u001b[0m: asyncio.run() cannot be called from a running event loop"
     ]
    }
   ],
   "source": [
    "import os\n",
    "import streamlit.web.bootstrap\n",
    "import streamlit.config as _config\n",
    "\n",
    "_config.set_option(\"server.headless\", True)\n",
    "args = []\n",
    "\n",
    "streamlit.web.bootstrap.run(r'C:\\Users\\Work\\pico-scholar\\backend\\lamatidb\\interfaces\\temp_streamlit_app.py',False,args,{})"
   ]
  },
  {
   "cell_type": "code",
   "execution_count": 7,
   "metadata": {},
   "outputs": [],
   "source": [
    "with open(\"pmid.txt\", \"r\") as file:\n",
    "    type(file.read())"
   ]
  }
 ],
 "metadata": {
  "kernelspec": {
   "display_name": "lamatidb-gXYSf88G-py3.11",
   "language": "python",
   "name": "python3"
  },
  "language_info": {
   "codemirror_mode": {
    "name": "ipython",
    "version": 3
   },
   "file_extension": ".py",
   "mimetype": "text/x-python",
   "name": "python",
   "nbconvert_exporter": "python",
   "pygments_lexer": "ipython3",
   "version": "3.11.9"
  }
 },
 "nbformat": 4,
 "nbformat_minor": 2
}
